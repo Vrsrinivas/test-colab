{
  "nbformat": 4,
  "nbformat_minor": 0,
  "metadata": {
    "colab": {
      "provenance": [],
      "authorship_tag": "ABX9TyPboZemcENi4VVbGLfyh3Go",
      "include_colab_link": true
    },
    "kernelspec": {
      "name": "python3",
      "display_name": "Python 3"
    },
    "language_info": {
      "name": "python"
    }
  },
  "cells": [
    {
      "cell_type": "markdown",
      "metadata": {
        "id": "view-in-github",
        "colab_type": "text"
      },
      "source": [
        "<a href=\"https://colab.research.google.com/github/Vrsrinivas/test-colab/blob/main/template.ipynb\" target=\"_parent\"><img src=\"https://colab.research.google.com/assets/colab-badge.svg\" alt=\"Open In Colab\"/></a>"
      ]
    },
    {
      "cell_type": "code",
      "execution_count": null,
      "metadata": {
        "colab": {
          "base_uri": "https://localhost:8080/"
        },
        "id": "5MIZ3_YfQcrL",
        "outputId": "16463b60-2c6a-4a31-d7e9-fd0853e1cbf0"
      },
      "outputs": [
        {
          "output_type": "stream",
          "name": "stdout",
          "text": [
            "VR is the Best\n"
          ]
        }
      ],
      "source": [
        "print(\"VR is the Best\")\n"
      ]
    },
    {
      "cell_type": "code",
      "source": [
        "print(\"Siddhu is best\\n\" *10)"
      ],
      "metadata": {
        "id": "0q5sHhgnSxJx",
        "outputId": "2b7832e4-7135-4c16-e212-dbb0c516a286",
        "colab": {
          "base_uri": "https://localhost:8080/"
        }
      },
      "execution_count": 3,
      "outputs": [
        {
          "output_type": "stream",
          "name": "stdout",
          "text": [
            "Siddhu is best\n",
            "Siddhu is best\n",
            "Siddhu is best\n",
            "Siddhu is best\n",
            "Siddhu is best\n",
            "Siddhu is best\n",
            "Siddhu is best\n",
            "Siddhu is best\n",
            "Siddhu is best\n",
            "Siddhu is best\n",
            "\n"
          ]
        }
      ]
    },
    {
      "cell_type": "markdown",
      "source": [
        "testing is not possible as in UAT , test in prod"
      ],
      "metadata": {
        "id": "jVGIlOXYTDC_"
      }
    }
  ]
}